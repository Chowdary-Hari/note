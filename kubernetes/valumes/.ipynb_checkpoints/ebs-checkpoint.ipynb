{
 "cells": [
  {
   "cell_type": "markdown",
   "id": "cb191428-41d7-4e87-be7e-e0949558e964",
   "metadata": {},
   "source": [
    "## Ebs volumes\n",
    "- create EBS volume in AWS\n",
    "- install EBS drivers in the EKS cluster\n",
    "- attach EBS-CSI policy in the IAM role `To allow your EC2 instances (nodes) to connect with EBS (Elastic Block Store) volumes, you need to attach the AmazonEC2EBSCSI policy to the IAM role assigned to your EC2 instances`\n",
    "- 1\n",
    "- 1"
   ]
  },
  {
   "cell_type": "code",
   "execution_count": null,
   "id": "1c82866d-c800-491f-aecd-e2723291b467",
   "metadata": {},
   "outputs": [],
   "source": []
  }
 ],
 "metadata": {
  "kernelspec": {
   "display_name": "Python 3 (ipykernel)",
   "language": "python",
   "name": "python3"
  },
  "language_info": {
   "codemirror_mode": {
    "name": "ipython",
    "version": 3
   },
   "file_extension": ".py",
   "mimetype": "text/x-python",
   "name": "python",
   "nbconvert_exporter": "python",
   "pygments_lexer": "ipython3",
   "version": "3.12.7"
  }
 },
 "nbformat": 4,
 "nbformat_minor": 5
}
