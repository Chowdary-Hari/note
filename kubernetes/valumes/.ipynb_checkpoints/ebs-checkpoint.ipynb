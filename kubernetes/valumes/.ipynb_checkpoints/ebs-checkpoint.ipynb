{
 "cells": [
  {
   "cell_type": "markdown",
   "id": "cb191428-41d7-4e87-be7e-e0949558e964",
   "metadata": {},
   "source": [
    "## Ebs valumes\n",
    "- create EBS valume in aws\n",
    "- install EBS drivers in EKS cluster\n",
    "- attach EBS-CSI policy\n",
    "- "
   ]
  }
 ],
 "metadata": {
  "kernelspec": {
   "display_name": "Python 3 (ipykernel)",
   "language": "python",
   "name": "python3"
  },
  "language_info": {
   "codemirror_mode": {
    "name": "ipython",
    "version": 3
   },
   "file_extension": ".py",
   "mimetype": "text/x-python",
   "name": "python",
   "nbconvert_exporter": "python",
   "pygments_lexer": "ipython3",
   "version": "3.12.7"
  }
 },
 "nbformat": 4,
 "nbformat_minor": 5
}
