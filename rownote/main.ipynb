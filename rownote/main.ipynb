{
 "cells": [
  {
   "cell_type": "markdown",
   "id": "88857ffb-97d0-4d4c-9f5f-013a2cfb266f",
   "metadata": {},
   "source": [
    "# HELM chart  "
   ]
  },
  {
   "cell_type": "markdown",
   "id": "b366ebbc-fd2b-4bc9-86dc-7c9ec02bd63e",
   "metadata": {},
   "source": [
    "```markdown\n",
    "mychart/\n",
    "│── charts/            # Dependency charts (if any)\n",
    "│── templates/         # Kubernetes manifest templates\n",
    "│   ├── deployment.yaml\n",
    "│   ├── service.yaml\n",
    "│   ├── ingress.yaml\n",
    "│   ├── configmap.yaml\n",
    "│   ├── _helpers.tpl   # Helper functions\n",
    "│── values.yaml        # Configurable values for the templates\n",
    "│── Chart.yaml         # Chart metadata\n",
    "│── README.md          # Documentation\n",
    "```"
   ]
  }
 ],
 "metadata": {
  "kernelspec": {
   "display_name": "Python 3 (ipykernel)",
   "language": "python",
   "name": "python3"
  },
  "language_info": {
   "codemirror_mode": {
    "name": "ipython",
    "version": 3
   },
   "file_extension": ".py",
   "mimetype": "text/x-python",
   "name": "python",
   "nbconvert_exporter": "python",
   "pygments_lexer": "ipython3",
   "version": "3.12.7"
  }
 },
 "nbformat": 4,
 "nbformat_minor": 5
}
